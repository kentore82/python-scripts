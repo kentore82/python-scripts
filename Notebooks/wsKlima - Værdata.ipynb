{
 "cells": [
  {
   "cell_type": "markdown",
   "metadata": {},
   "source": [
    "# Værdata fra elklima.met.no\n",
    "\n",
    "http://eklima.met.no/wsKlima/start/start_no.html"
   ]
  },
  {
   "cell_type": "code",
   "execution_count": null,
   "metadata": {
    "collapsed": true
   },
   "outputs": [],
   "source": [
    "from suds.client import Client\n",
    "\n",
    "from suds.xsd.doctor import ImportDoctor, Import"
   ]
  },
  {
   "cell_type": "code",
   "execution_count": 8,
   "metadata": {
    "ExecuteTime": {
     "end_time": "2016-10-19T11:49:15.423550",
     "start_time": "2016-10-19T11:49:15.408008"
    },
    "collapsed": true
   },
   "outputs": [],
   "source": [
    "#Setup WSDL client. \n",
    "\n",
    "imp = Import('http://schemas.xmlsoap.org/soap/encoding/')\n",
    "d = ImportDoctor(imp)\n",
    "\n",
    "url = 'http://eklima.met.no/metdata/MetDataService?WSDL'\n",
    "\n",
    "client = Client(url, doctor=d) \n",
    "services=client.service"
   ]
  },
  {
   "cell_type": "code",
   "execution_count": 12,
   "metadata": {
    "ExecuteTime": {
     "end_time": "2016-10-19T11:51:20.034014",
     "start_time": "2016-10-19T11:51:20.024444"
    },
    "collapsed": false
   },
   "outputs": [
    {
     "name": "stdout",
     "output_type": "stream",
     "text": [
      "[getStationsFromTimeserieTypeElemCodes, getElementsProperties, getFlagProperties, getElementsFromTimeserieType, getStationsFromTimeserieType, getTimeserieTypesProperties, getControlInfo, getValidLanguages, getPrecipitationTypes, getCountyTypes, getDateFormat, getStationsProperties, getElementsFromTimeserieTypeStation, getMetData, getStationsFromTimeserieTypeStationsElemCode]\n"
     ]
    }
   ],
   "source": [
    "list_of_methods = [method for method in client.wsdl.services[0].ports[0].methods]\n",
    "\n",
    "print list_of_methods"
   ]
  },
  {
   "cell_type": "code",
   "execution_count": 15,
   "metadata": {
    "ExecuteTime": {
     "end_time": "2016-10-19T11:53:44.815860",
     "start_time": "2016-10-19T11:53:44.799574"
    },
    "collapsed": false
   },
   "outputs": [
    {
     "name": "stdout",
     "output_type": "stream",
     "text": [
      "\n",
      "Suds ( https://fedorahosted.org/suds/ )  version: 0.4 GA  build: R699-20100913\n",
      "\n",
      "Service ( MetDataService ) tns=\"http://no/met/metdata/MetDataService.wsdl\"\n",
      "   Prefixes (2)\n",
      "      ns0 = \"http://no.met.metdata/IMetDataService.xsd\"\n",
      "      ns2 = \"http://schemas.xmlsoap.org/soap/encoding/\"\n",
      "   Ports (1):\n",
      "      (MetDataServicePort)\n",
      "         Methods (15):\n",
      "            getControlInfo(xs:string format, xs:string from, xs:string to, xs:string stations, xs:string elements, xs:string hours, xs:string months, xs:string username, )\n",
      "            getCountyTypes(xs:string language, xs:string countiesId, )\n",
      "            getDateFormat()\n",
      "            getElementsFromTimeserieType(xs:string timeserietypeID, )\n",
      "            getElementsFromTimeserieTypeStation(xs:string timeserietypeID, xs:int stnr, )\n",
      "            getElementsProperties(xs:string language, xs:string elem_codes, )\n",
      "            getFlagProperties(xs:string language, xs:string flagsId, )\n",
      "            getMetData(xs:string timeserietypeID, xs:string format, xs:string from, xs:string to, xs:string stations, xs:string elements, xs:string hours, xs:string months, xs:string username, )\n",
      "            getPrecipitationTypes(xs:string language, xs:string precipitationTypesId, )\n",
      "            getStationsFromTimeserieType(xs:string timeserietypeID, xs:string username, )\n",
      "            getStationsFromTimeserieTypeElemCodes(xs:string timeserietypeID, xs:string elem_codes, xs:string username, )\n",
      "            getStationsFromTimeserieTypeStationsElemCode(xs:string timeserietype, xs:string stations, xs:string elem_code, xs:string username, )\n",
      "            getStationsProperties(xs:string stations, xs:string username, )\n",
      "            getTimeserieTypesProperties(xs:string language, xs:string timeserieTypes, )\n",
      "            getValidLanguages()\n",
      "         Types (68):\n",
      "            ns2:Array\n",
      "            ns0:ArrayOfString\n",
      "            ns0:ArrayOfno_met_metdata_CountyTypes\n",
      "            ns0:ArrayOfno_met_metdata_ElementProperties\n",
      "            ns0:ArrayOfno_met_metdata_FlagProperties\n",
      "            ns0:ArrayOfno_met_metdata_Location\n",
      "            ns0:ArrayOfno_met_metdata_PrecipitationTypes\n",
      "            ns0:ArrayOfno_met_metdata_StationProperties\n",
      "            ns0:ArrayOfno_met_metdata_TimeSerieTypes\n",
      "            ns0:ArrayOfno_met_metdata_TimeStamp\n",
      "            ns0:ArrayOfno_met_metdata_WeatherElement\n",
      "            ns2:ENTITIES\n",
      "            ns2:ENTITY\n",
      "            ns2:ID\n",
      "            ns2:IDREF\n",
      "            ns2:IDREFS\n",
      "            ns2:NCName\n",
      "            ns2:NMTOKEN\n",
      "            ns2:NMTOKENS\n",
      "            ns2:NOTATION\n",
      "            ns2:Name\n",
      "            ns2:QName\n",
      "            ns2:Struct\n",
      "            ns2:anyURI\n",
      "            ns2:arrayCoordinate\n",
      "            ns2:base64\n",
      "            ns2:base64Binary\n",
      "            ns2:boolean\n",
      "            ns2:byte\n",
      "            ns2:date\n",
      "            ns2:dateTime\n",
      "            ns2:decimal\n",
      "            ns2:double\n",
      "            ns2:duration\n",
      "            ns2:float\n",
      "            ns2:gDay\n",
      "            ns2:gMonth\n",
      "            ns2:gMonthDay\n",
      "            ns2:gYear\n",
      "            ns2:gYearMonth\n",
      "            ns2:hexBinary\n",
      "            ns2:int\n",
      "            ns2:integer\n",
      "            ns2:language\n",
      "            ns2:long\n",
      "            ns2:negativeInteger\n",
      "            ns0:no_met_metdata_CountyTypes\n",
      "            ns0:no_met_metdata_ElementProperties\n",
      "            ns0:no_met_metdata_FlagProperties\n",
      "            ns0:no_met_metdata_Location\n",
      "            ns0:no_met_metdata_Metdata\n",
      "            ns0:no_met_metdata_PrecipitationTypes\n",
      "            ns0:no_met_metdata_StationProperties\n",
      "            ns0:no_met_metdata_TimeSerieTypes\n",
      "            ns0:no_met_metdata_TimeStamp\n",
      "            ns0:no_met_metdata_WeatherElement\n",
      "            ns2:nonNegativeInteger\n",
      "            ns2:nonPositiveInteger\n",
      "            ns2:normalizedString\n",
      "            ns2:positiveInteger\n",
      "            ns2:short\n",
      "            ns2:string\n",
      "            ns2:time\n",
      "            ns2:token\n",
      "            ns2:unsignedByte\n",
      "            ns2:unsignedInt\n",
      "            ns2:unsignedLong\n",
      "            ns2:unsignedShort\n",
      "\n",
      "\n"
     ]
    }
   ],
   "source": [
    "print client"
   ]
  },
  {
   "cell_type": "code",
   "execution_count": 18,
   "metadata": {
    "ExecuteTime": {
     "end_time": "2016-10-19T11:56:57.141227",
     "start_time": "2016-10-19T11:56:57.109217"
    },
    "collapsed": false
   },
   "outputs": [
    {
     "data": {
      "text/plain": [
       "[no, en, ny]"
      ]
     },
     "execution_count": 18,
     "metadata": {},
     "output_type": "execute_result"
    }
   ],
   "source": [
    "services.getValidLanguages()"
   ]
  },
  {
   "cell_type": "code",
   "execution_count": null,
   "metadata": {
    "collapsed": true
   },
   "outputs": [],
   "source": [
    "test=services.getMetData(0,\"\",\"2006-01-01\",\"2006-01-05\",\"18700\",\"tam\",\"\",\"\",\"\")"
   ]
  },
  {
   "cell_type": "code",
   "execution_count": 32,
   "metadata": {
    "ExecuteTime": {
     "end_time": "2016-10-19T12:13:47.488379",
     "start_time": "2016-10-19T12:13:25.147686"
    },
    "collapsed": false
   },
   "outputs": [
    {
     "data": {
      "text/plain": [
       "2044"
      ]
     },
     "execution_count": 32,
     "metadata": {},
     "output_type": "execute_result"
    }
   ],
   "source": [
    "len(services.getStationsFromTimeserieType(\"0\",\"\"))"
   ]
  }
 ],
 "metadata": {
  "hide_input": false,
  "kernelspec": {
   "display_name": "Python 2",
   "language": "python",
   "name": "python2"
  },
  "language_info": {
   "codemirror_mode": {
    "name": "ipython",
    "version": 2
   },
   "file_extension": ".py",
   "mimetype": "text/x-python",
   "name": "python",
   "nbconvert_exporter": "python",
   "pygments_lexer": "ipython2",
   "version": "2.7.12"
  }
 },
 "nbformat": 4,
 "nbformat_minor": 1
}
